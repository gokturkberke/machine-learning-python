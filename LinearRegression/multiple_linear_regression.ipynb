{
 "cells": [
  {
   "cell_type": "code",
   "execution_count": 6,
   "id": "c4ab60b4-72f9-466d-b8bd-54058cd655ef",
   "metadata": {},
   "outputs": [
    {
     "data": {
      "text/html": [
       "<div>\n",
       "<style scoped>\n",
       "    .dataframe tbody tr th:only-of-type {\n",
       "        vertical-align: middle;\n",
       "    }\n",
       "\n",
       "    .dataframe tbody tr th {\n",
       "        vertical-align: top;\n",
       "    }\n",
       "\n",
       "    .dataframe thead th {\n",
       "        text-align: right;\n",
       "    }\n",
       "</style>\n",
       "<table border=\"1\" class=\"dataframe\">\n",
       "  <thead>\n",
       "    <tr style=\"text-align: right;\">\n",
       "      <th></th>\n",
       "      <th>TV</th>\n",
       "      <th>radio</th>\n",
       "      <th>newspaper</th>\n",
       "      <th>sales</th>\n",
       "    </tr>\n",
       "  </thead>\n",
       "  <tbody>\n",
       "    <tr>\n",
       "      <th>0</th>\n",
       "      <td>230.1</td>\n",
       "      <td>37.8</td>\n",
       "      <td>69.2</td>\n",
       "      <td>22.1</td>\n",
       "    </tr>\n",
       "    <tr>\n",
       "      <th>1</th>\n",
       "      <td>44.5</td>\n",
       "      <td>39.3</td>\n",
       "      <td>45.1</td>\n",
       "      <td>10.4</td>\n",
       "    </tr>\n",
       "    <tr>\n",
       "      <th>2</th>\n",
       "      <td>17.2</td>\n",
       "      <td>45.9</td>\n",
       "      <td>69.3</td>\n",
       "      <td>9.3</td>\n",
       "    </tr>\n",
       "    <tr>\n",
       "      <th>3</th>\n",
       "      <td>151.5</td>\n",
       "      <td>41.3</td>\n",
       "      <td>58.5</td>\n",
       "      <td>18.5</td>\n",
       "    </tr>\n",
       "    <tr>\n",
       "      <th>4</th>\n",
       "      <td>180.8</td>\n",
       "      <td>10.8</td>\n",
       "      <td>58.4</td>\n",
       "      <td>12.9</td>\n",
       "    </tr>\n",
       "  </tbody>\n",
       "</table>\n",
       "</div>"
      ],
      "text/plain": [
       "      TV  radio  newspaper  sales\n",
       "0  230.1   37.8       69.2   22.1\n",
       "1   44.5   39.3       45.1   10.4\n",
       "2   17.2   45.9       69.3    9.3\n",
       "3  151.5   41.3       58.5   18.5\n",
       "4  180.8   10.8       58.4   12.9"
      ]
     },
     "execution_count": 6,
     "metadata": {},
     "output_type": "execute_result"
    }
   ],
   "source": [
    "import pandas as pd\n",
    "df = pd.read_csv(\"../Advertising.csv\")\n",
    "df = df.iloc[:,1:len(df)]\n",
    "df.head()"
   ]
  },
  {
   "cell_type": "code",
   "execution_count": 8,
   "id": "4da69990-5763-4b02-95e6-6d88db81c3dc",
   "metadata": {},
   "outputs": [],
   "source": [
    "X = df.drop('sales',axis=1)\n",
    "y = df[\"sales\"] #bagimli degisken df[[\"sales\"]] seklinde yazarsak pandas date frame seklinde gelmis olur"
   ]
  },
  {
   "cell_type": "code",
   "execution_count": 10,
   "id": "956ef0a1-03d2-4bc9-b5a1-6b7078349133",
   "metadata": {},
   "outputs": [
    {
     "data": {
      "text/plain": [
       "0    22.1\n",
       "1    10.4\n",
       "2     9.3\n",
       "3    18.5\n",
       "4    12.9\n",
       "Name: sales, dtype: float64"
      ]
     },
     "execution_count": 10,
     "metadata": {},
     "output_type": "execute_result"
    }
   ],
   "source": [
    "y.head()"
   ]
  },
  {
   "cell_type": "code",
   "execution_count": 12,
   "id": "4169fa6b-7599-44c5-8c57-62d5ca0c1ee8",
   "metadata": {},
   "outputs": [
    {
     "data": {
      "text/html": [
       "<div>\n",
       "<style scoped>\n",
       "    .dataframe tbody tr th:only-of-type {\n",
       "        vertical-align: middle;\n",
       "    }\n",
       "\n",
       "    .dataframe tbody tr th {\n",
       "        vertical-align: top;\n",
       "    }\n",
       "\n",
       "    .dataframe thead th {\n",
       "        text-align: right;\n",
       "    }\n",
       "</style>\n",
       "<table border=\"1\" class=\"dataframe\">\n",
       "  <thead>\n",
       "    <tr style=\"text-align: right;\">\n",
       "      <th></th>\n",
       "      <th>TV</th>\n",
       "      <th>radio</th>\n",
       "      <th>newspaper</th>\n",
       "    </tr>\n",
       "  </thead>\n",
       "  <tbody>\n",
       "    <tr>\n",
       "      <th>0</th>\n",
       "      <td>230.1</td>\n",
       "      <td>37.8</td>\n",
       "      <td>69.2</td>\n",
       "    </tr>\n",
       "    <tr>\n",
       "      <th>1</th>\n",
       "      <td>44.5</td>\n",
       "      <td>39.3</td>\n",
       "      <td>45.1</td>\n",
       "    </tr>\n",
       "    <tr>\n",
       "      <th>2</th>\n",
       "      <td>17.2</td>\n",
       "      <td>45.9</td>\n",
       "      <td>69.3</td>\n",
       "    </tr>\n",
       "    <tr>\n",
       "      <th>3</th>\n",
       "      <td>151.5</td>\n",
       "      <td>41.3</td>\n",
       "      <td>58.5</td>\n",
       "    </tr>\n",
       "    <tr>\n",
       "      <th>4</th>\n",
       "      <td>180.8</td>\n",
       "      <td>10.8</td>\n",
       "      <td>58.4</td>\n",
       "    </tr>\n",
       "  </tbody>\n",
       "</table>\n",
       "</div>"
      ],
      "text/plain": [
       "      TV  radio  newspaper\n",
       "0  230.1   37.8       69.2\n",
       "1   44.5   39.3       45.1\n",
       "2   17.2   45.9       69.3\n",
       "3  151.5   41.3       58.5\n",
       "4  180.8   10.8       58.4"
      ]
     },
     "execution_count": 12,
     "metadata": {},
     "output_type": "execute_result"
    }
   ],
   "source": [
    "X.head()"
   ]
  },
  {
   "cell_type": "markdown",
   "id": "4a8a7f54-8b36-4ff8-96d2-cbb4a8eb0abe",
   "metadata": {},
   "source": [
    "### Stats Model ile model kurmak"
   ]
  },
  {
   "cell_type": "code",
   "execution_count": 19,
   "id": "aefca80f-ebaf-43aa-9f1b-68dffbda8b4b",
   "metadata": {},
   "outputs": [],
   "source": [
    "import statsmodels.api as sm"
   ]
  },
  {
   "cell_type": "code",
   "execution_count": 20,
   "id": "e119a3f0-3398-4e3d-babf-780d0de83020",
   "metadata": {},
   "outputs": [],
   "source": [
    "lm = sm.OLS(y,X)"
   ]
  },
  {
   "cell_type": "code",
   "execution_count": 23,
   "id": "8e84e669-75b1-4570-ada5-45d1e57da4eb",
   "metadata": {},
   "outputs": [],
   "source": [
    "model = lm.fit()"
   ]
  },
  {
   "cell_type": "code",
   "execution_count": 25,
   "id": "aeb540f1-3e59-4996-8fdd-0ae2d2ebc2b6",
   "metadata": {},
   "outputs": [
    {
     "data": {
      "text/html": [
       "<table class=\"simpletable\">\n",
       "<caption>OLS Regression Results</caption>\n",
       "<tr>\n",
       "  <th>Dep. Variable:</th>          <td>sales</td>      <th>  R-squared (uncentered):</th>      <td>   0.982</td> \n",
       "</tr>\n",
       "<tr>\n",
       "  <th>Model:</th>                   <td>OLS</td>       <th>  Adj. R-squared (uncentered):</th> <td>   0.982</td> \n",
       "</tr>\n",
       "<tr>\n",
       "  <th>Method:</th>             <td>Least Squares</td>  <th>  F-statistic:       </th>          <td>   3566.</td> \n",
       "</tr>\n",
       "<tr>\n",
       "  <th>Date:</th>             <td>Mon, 21 Apr 2025</td> <th>  Prob (F-statistic):</th>          <td>2.43e-171</td>\n",
       "</tr>\n",
       "<tr>\n",
       "  <th>Time:</th>                 <td>10:40:49</td>     <th>  Log-Likelihood:    </th>          <td> -423.54</td> \n",
       "</tr>\n",
       "<tr>\n",
       "  <th>No. Observations:</th>      <td>   200</td>      <th>  AIC:               </th>          <td>   853.1</td> \n",
       "</tr>\n",
       "<tr>\n",
       "  <th>Df Residuals:</th>          <td>   197</td>      <th>  BIC:               </th>          <td>   863.0</td> \n",
       "</tr>\n",
       "<tr>\n",
       "  <th>Df Model:</th>              <td>     3</td>      <th>                     </th>              <td> </td>    \n",
       "</tr>\n",
       "<tr>\n",
       "  <th>Covariance Type:</th>      <td>nonrobust</td>    <th>                     </th>              <td> </td>    \n",
       "</tr>\n",
       "</table>\n",
       "<table class=\"simpletable\">\n",
       "<tr>\n",
       "      <td></td>         <th>coef</th>     <th>std err</th>      <th>t</th>      <th>P>|t|</th>  <th>[0.025</th>    <th>0.975]</th>  \n",
       "</tr>\n",
       "<tr>\n",
       "  <th>TV</th>        <td>    0.0538</td> <td>    0.001</td> <td>   40.507</td> <td> 0.000</td> <td>    0.051</td> <td>    0.056</td>\n",
       "</tr>\n",
       "<tr>\n",
       "  <th>radio</th>     <td>    0.2222</td> <td>    0.009</td> <td>   23.595</td> <td> 0.000</td> <td>    0.204</td> <td>    0.241</td>\n",
       "</tr>\n",
       "<tr>\n",
       "  <th>newspaper</th> <td>    0.0168</td> <td>    0.007</td> <td>    2.517</td> <td> 0.013</td> <td>    0.004</td> <td>    0.030</td>\n",
       "</tr>\n",
       "</table>\n",
       "<table class=\"simpletable\">\n",
       "<tr>\n",
       "  <th>Omnibus:</th>       <td> 5.982</td> <th>  Durbin-Watson:     </th> <td>   2.038</td>\n",
       "</tr>\n",
       "<tr>\n",
       "  <th>Prob(Omnibus):</th> <td> 0.050</td> <th>  Jarque-Bera (JB):  </th> <td>   7.039</td>\n",
       "</tr>\n",
       "<tr>\n",
       "  <th>Skew:</th>          <td>-0.232</td> <th>  Prob(JB):          </th> <td>  0.0296</td>\n",
       "</tr>\n",
       "<tr>\n",
       "  <th>Kurtosis:</th>      <td> 3.794</td> <th>  Cond. No.          </th> <td>    12.6</td>\n",
       "</tr>\n",
       "</table><br/><br/>Notes:<br/>[1] R² is computed without centering (uncentered) since the model does not contain a constant.<br/>[2] Standard Errors assume that the covariance matrix of the errors is correctly specified."
      ],
      "text/latex": [
       "\\begin{center}\n",
       "\\begin{tabular}{lclc}\n",
       "\\toprule\n",
       "\\textbf{Dep. Variable:}    &      sales       & \\textbf{  R-squared (uncentered):}      &     0.982   \\\\\n",
       "\\textbf{Model:}            &       OLS        & \\textbf{  Adj. R-squared (uncentered):} &     0.982   \\\\\n",
       "\\textbf{Method:}           &  Least Squares   & \\textbf{  F-statistic:       }          &     3566.   \\\\\n",
       "\\textbf{Date:}             & Mon, 21 Apr 2025 & \\textbf{  Prob (F-statistic):}          & 2.43e-171   \\\\\n",
       "\\textbf{Time:}             &     10:40:49     & \\textbf{  Log-Likelihood:    }          &   -423.54   \\\\\n",
       "\\textbf{No. Observations:} &         200      & \\textbf{  AIC:               }          &     853.1   \\\\\n",
       "\\textbf{Df Residuals:}     &         197      & \\textbf{  BIC:               }          &     863.0   \\\\\n",
       "\\textbf{Df Model:}         &           3      & \\textbf{                     }          &             \\\\\n",
       "\\textbf{Covariance Type:}  &    nonrobust     & \\textbf{                     }          &             \\\\\n",
       "\\bottomrule\n",
       "\\end{tabular}\n",
       "\\begin{tabular}{lcccccc}\n",
       "                   & \\textbf{coef} & \\textbf{std err} & \\textbf{t} & \\textbf{P$> |$t$|$} & \\textbf{[0.025} & \\textbf{0.975]}  \\\\\n",
       "\\midrule\n",
       "\\textbf{TV}        &       0.0538  &        0.001     &    40.507  &         0.000        &        0.051    &        0.056     \\\\\n",
       "\\textbf{radio}     &       0.2222  &        0.009     &    23.595  &         0.000        &        0.204    &        0.241     \\\\\n",
       "\\textbf{newspaper} &       0.0168  &        0.007     &     2.517  &         0.013        &        0.004    &        0.030     \\\\\n",
       "\\bottomrule\n",
       "\\end{tabular}\n",
       "\\begin{tabular}{lclc}\n",
       "\\textbf{Omnibus:}       &  5.982 & \\textbf{  Durbin-Watson:     } &    2.038  \\\\\n",
       "\\textbf{Prob(Omnibus):} &  0.050 & \\textbf{  Jarque-Bera (JB):  } &    7.039  \\\\\n",
       "\\textbf{Skew:}          & -0.232 & \\textbf{  Prob(JB):          } &   0.0296  \\\\\n",
       "\\textbf{Kurtosis:}      &  3.794 & \\textbf{  Cond. No.          } &     12.6  \\\\\n",
       "\\bottomrule\n",
       "\\end{tabular}\n",
       "%\\caption{OLS Regression Results}\n",
       "\\end{center}\n",
       "\n",
       "Notes: \\newline\n",
       " [1] R² is computed without centering (uncentered) since the model does not contain a constant. \\newline\n",
       " [2] Standard Errors assume that the covariance matrix of the errors is correctly specified."
      ],
      "text/plain": [
       "<class 'statsmodels.iolib.summary.Summary'>\n",
       "\"\"\"\n",
       "                                 OLS Regression Results                                \n",
       "=======================================================================================\n",
       "Dep. Variable:                  sales   R-squared (uncentered):                   0.982\n",
       "Model:                            OLS   Adj. R-squared (uncentered):              0.982\n",
       "Method:                 Least Squares   F-statistic:                              3566.\n",
       "Date:                Mon, 21 Apr 2025   Prob (F-statistic):                   2.43e-171\n",
       "Time:                        10:40:49   Log-Likelihood:                         -423.54\n",
       "No. Observations:                 200   AIC:                                      853.1\n",
       "Df Residuals:                     197   BIC:                                      863.0\n",
       "Df Model:                           3                                                  \n",
       "Covariance Type:            nonrobust                                                  \n",
       "==============================================================================\n",
       "                 coef    std err          t      P>|t|      [0.025      0.975]\n",
       "------------------------------------------------------------------------------\n",
       "TV             0.0538      0.001     40.507      0.000       0.051       0.056\n",
       "radio          0.2222      0.009     23.595      0.000       0.204       0.241\n",
       "newspaper      0.0168      0.007      2.517      0.013       0.004       0.030\n",
       "==============================================================================\n",
       "Omnibus:                        5.982   Durbin-Watson:                   2.038\n",
       "Prob(Omnibus):                  0.050   Jarque-Bera (JB):                7.039\n",
       "Skew:                          -0.232   Prob(JB):                       0.0296\n",
       "Kurtosis:                       3.794   Cond. No.                         12.6\n",
       "==============================================================================\n",
       "\n",
       "Notes:\n",
       "[1] R² is computed without centering (uncentered) since the model does not contain a constant.\n",
       "[2] Standard Errors assume that the covariance matrix of the errors is correctly specified.\n",
       "\"\"\""
      ]
     },
     "execution_count": 25,
     "metadata": {},
     "output_type": "execute_result"
    }
   ],
   "source": [
    "model.summary()"
   ]
  },
  {
   "cell_type": "markdown",
   "id": "075a2763-275c-495d-a88e-828427b9925e",
   "metadata": {},
   "source": [
    "### scikit learn ile model kurmak"
   ]
  },
  {
   "cell_type": "code",
   "execution_count": 30,
   "id": "53636650-2df6-4b8e-ba24-a9f7a52fe163",
   "metadata": {},
   "outputs": [],
   "source": [
    "from sklearn.linear_model import LinearRegression\n",
    "lm = LinearRegression()"
   ]
  },
  {
   "cell_type": "code",
   "execution_count": 32,
   "id": "ff023344-f582-4504-ad24-634e121b47db",
   "metadata": {},
   "outputs": [],
   "source": [
    "model = lm.fit(X,y)"
   ]
  },
  {
   "cell_type": "code",
   "execution_count": 36,
   "id": "e8cd8778-1213-47d1-a396-1505fa7db598",
   "metadata": {},
   "outputs": [
    {
     "data": {
      "text/plain": [
       "2.9388893694593996"
      ]
     },
     "execution_count": 36,
     "metadata": {},
     "output_type": "execute_result"
    }
   ],
   "source": [
    "model.intercept_"
   ]
  },
  {
   "cell_type": "code",
   "execution_count": 38,
   "id": "31d444da-93ba-4cc2-96ed-9e82dc8e318f",
   "metadata": {},
   "outputs": [
    {
     "data": {
      "text/plain": [
       "array([ 0.04576465,  0.18853002, -0.00103749])"
      ]
     },
     "execution_count": 38,
     "metadata": {},
     "output_type": "execute_result"
    }
   ],
   "source": [
    "model.coef_ #katsayilar degisti mesela bunlarla tahmin yapicaz"
   ]
  },
  {
   "cell_type": "markdown",
   "id": "d52cdcc2-79e8-43a8-bdf6-b6901abee6b3",
   "metadata": {},
   "source": [
    "## Tahmin"
   ]
  },
  {
   "cell_type": "markdown",
   "id": "adc22713-6909-48e4-ac97-c3d4062c6f7c",
   "metadata": {},
   "source": [
    "### sales = 2.94 + TV*0.04 + radio *0.19 - newspaper * 0.001"
   ]
  },
  {
   "cell_type": "markdown",
   "id": "b54bd633-6de4-4682-af09-18dd87846ba0",
   "metadata": {},
   "source": [
    "### 30 birim tv 10 birim radio 40 birim gazete"
   ]
  },
  {
   "cell_type": "code",
   "execution_count": 45,
   "id": "c2d8e87a-90c2-43d0-8b56-efe9b1738b9a",
   "metadata": {},
   "outputs": [
    {
     "data": {
      "text/plain": [
       "5.999999999999999"
      ]
     },
     "execution_count": 45,
     "metadata": {},
     "output_type": "execute_result"
    }
   ],
   "source": [
    "2.94 +30 * 0.04 + 10*0.19 - 40*0.001"
   ]
  },
  {
   "cell_type": "code",
   "execution_count": 47,
   "id": "9fac623d-b4f0-4596-a238-17deeb9c9899",
   "metadata": {},
   "outputs": [],
   "source": [
    "yeni_veri = [[30],[10],[40]]"
   ]
  },
  {
   "cell_type": "code",
   "execution_count": 49,
   "id": "73a30538-a9a4-43da-a436-4bd479c3f9d3",
   "metadata": {},
   "outputs": [],
   "source": [
    "import pandas as pd\n",
    "yeni_veri = pd.DataFrame(yeni_veri).T"
   ]
  },
  {
   "cell_type": "code",
   "execution_count": 51,
   "id": "f5433cbe-45a2-495c-b98f-f21ff2e49dce",
   "metadata": {},
   "outputs": [
    {
     "data": {
      "text/html": [
       "<div>\n",
       "<style scoped>\n",
       "    .dataframe tbody tr th:only-of-type {\n",
       "        vertical-align: middle;\n",
       "    }\n",
       "\n",
       "    .dataframe tbody tr th {\n",
       "        vertical-align: top;\n",
       "    }\n",
       "\n",
       "    .dataframe thead th {\n",
       "        text-align: right;\n",
       "    }\n",
       "</style>\n",
       "<table border=\"1\" class=\"dataframe\">\n",
       "  <thead>\n",
       "    <tr style=\"text-align: right;\">\n",
       "      <th></th>\n",
       "      <th>0</th>\n",
       "      <th>1</th>\n",
       "      <th>2</th>\n",
       "    </tr>\n",
       "  </thead>\n",
       "  <tbody>\n",
       "    <tr>\n",
       "      <th>0</th>\n",
       "      <td>30</td>\n",
       "      <td>10</td>\n",
       "      <td>40</td>\n",
       "    </tr>\n",
       "  </tbody>\n",
       "</table>\n",
       "</div>"
      ],
      "text/plain": [
       "    0   1   2\n",
       "0  30  10  40"
      ]
     },
     "execution_count": 51,
     "metadata": {},
     "output_type": "execute_result"
    }
   ],
   "source": [
    "yeni_veri"
   ]
  },
  {
   "cell_type": "code",
   "execution_count": 53,
   "id": "2000a179-e5c2-4c77-9213-b6c83f72efa0",
   "metadata": {},
   "outputs": [
    {
     "name": "stderr",
     "output_type": "stream",
     "text": [
      "/Users/gokturkberkekorkut/anaconda3/lib/python3.11/site-packages/sklearn/base.py:464: UserWarning: X does not have valid feature names, but LinearRegression was fitted with feature names\n",
      "  warnings.warn(\n"
     ]
    },
    {
     "data": {
      "text/plain": [
       "array([6.15562918])"
      ]
     },
     "execution_count": 53,
     "metadata": {},
     "output_type": "execute_result"
    }
   ],
   "source": [
    "model.predict(yeni_veri)"
   ]
  },
  {
   "cell_type": "code",
   "execution_count": 55,
   "id": "fb4463a9-6bba-43d4-a60a-a9ab4af9b05e",
   "metadata": {},
   "outputs": [],
   "source": [
    "from sklearn.metrics import mean_squared_error"
   ]
  },
  {
   "cell_type": "code",
   "execution_count": 57,
   "id": "c3e8c732-f86e-44fa-b728-3148d369b581",
   "metadata": {},
   "outputs": [
    {
     "data": {
      "text/plain": [
       "0    22.1\n",
       "1    10.4\n",
       "2     9.3\n",
       "3    18.5\n",
       "4    12.9\n",
       "Name: sales, dtype: float64"
      ]
     },
     "execution_count": 57,
     "metadata": {},
     "output_type": "execute_result"
    }
   ],
   "source": [
    "y.head()"
   ]
  },
  {
   "cell_type": "code",
   "execution_count": 59,
   "id": "70bc242f-6f04-489c-b35e-fc488ed920fe",
   "metadata": {},
   "outputs": [
    {
     "data": {
      "text/plain": [
       "array([20.52397441, 12.33785482, 12.30767078, 17.59782951, 13.18867186,\n",
       "       12.47834763, 11.72975995, 12.12295317,  3.72734086, 12.55084872])"
      ]
     },
     "execution_count": 59,
     "metadata": {},
     "output_type": "execute_result"
    }
   ],
   "source": [
    "model.predict(X)[0:10]"
   ]
  },
  {
   "cell_type": "code",
   "execution_count": 61,
   "id": "25fb4aec-0392-41e5-9b9f-6e676ebf3bc7",
   "metadata": {},
   "outputs": [
    {
     "data": {
      "text/plain": [
       "2.784126314510936"
      ]
     },
     "execution_count": 61,
     "metadata": {},
     "output_type": "execute_result"
    }
   ],
   "source": [
    "MSE = mean_squared_error(y,model.predict(X)) # hata karesi ortalamasi\n",
    "MSE"
   ]
  },
  {
   "cell_type": "code",
   "execution_count": 63,
   "id": "9fb39c93-c66b-472a-9697-828af80e1b67",
   "metadata": {},
   "outputs": [
    {
     "data": {
      "text/plain": [
       "1.6685701407225697"
      ]
     },
     "execution_count": 63,
     "metadata": {},
     "output_type": "execute_result"
    }
   ],
   "source": [
    "import numpy as np\n",
    "RMSE = np.sqrt(MSE) #karekok degeri\n",
    "RMSE"
   ]
  },
  {
   "cell_type": "markdown",
   "id": "de535332-e193-49aa-b88e-02ea1ceaea20",
   "metadata": {},
   "source": [
    "## Model Tuning(Model Dogrulama)"
   ]
  },
  {
   "cell_type": "code",
   "execution_count": 66,
   "id": "470aae16-8ac9-42a3-863b-ec2f0e5766f6",
   "metadata": {},
   "outputs": [
    {
     "data": {
      "text/html": [
       "<div>\n",
       "<style scoped>\n",
       "    .dataframe tbody tr th:only-of-type {\n",
       "        vertical-align: middle;\n",
       "    }\n",
       "\n",
       "    .dataframe tbody tr th {\n",
       "        vertical-align: top;\n",
       "    }\n",
       "\n",
       "    .dataframe thead th {\n",
       "        text-align: right;\n",
       "    }\n",
       "</style>\n",
       "<table border=\"1\" class=\"dataframe\">\n",
       "  <thead>\n",
       "    <tr style=\"text-align: right;\">\n",
       "      <th></th>\n",
       "      <th>TV</th>\n",
       "      <th>radio</th>\n",
       "      <th>newspaper</th>\n",
       "    </tr>\n",
       "  </thead>\n",
       "  <tbody>\n",
       "    <tr>\n",
       "      <th>0</th>\n",
       "      <td>230.1</td>\n",
       "      <td>37.8</td>\n",
       "      <td>69.2</td>\n",
       "    </tr>\n",
       "    <tr>\n",
       "      <th>1</th>\n",
       "      <td>44.5</td>\n",
       "      <td>39.3</td>\n",
       "      <td>45.1</td>\n",
       "    </tr>\n",
       "    <tr>\n",
       "      <th>2</th>\n",
       "      <td>17.2</td>\n",
       "      <td>45.9</td>\n",
       "      <td>69.3</td>\n",
       "    </tr>\n",
       "    <tr>\n",
       "      <th>3</th>\n",
       "      <td>151.5</td>\n",
       "      <td>41.3</td>\n",
       "      <td>58.5</td>\n",
       "    </tr>\n",
       "    <tr>\n",
       "      <th>4</th>\n",
       "      <td>180.8</td>\n",
       "      <td>10.8</td>\n",
       "      <td>58.4</td>\n",
       "    </tr>\n",
       "  </tbody>\n",
       "</table>\n",
       "</div>"
      ],
      "text/plain": [
       "      TV  radio  newspaper\n",
       "0  230.1   37.8       69.2\n",
       "1   44.5   39.3       45.1\n",
       "2   17.2   45.9       69.3\n",
       "3  151.5   41.3       58.5\n",
       "4  180.8   10.8       58.4"
      ]
     },
     "execution_count": 66,
     "metadata": {},
     "output_type": "execute_result"
    }
   ],
   "source": [
    "X.head()"
   ]
  },
  {
   "cell_type": "code",
   "execution_count": 68,
   "id": "1e1f0e01-e207-420c-a6a5-afbce6b4be96",
   "metadata": {},
   "outputs": [
    {
     "data": {
      "text/plain": [
       "0    22.1\n",
       "1    10.4\n",
       "2     9.3\n",
       "3    18.5\n",
       "4    12.9\n",
       "Name: sales, dtype: float64"
      ]
     },
     "execution_count": 68,
     "metadata": {},
     "output_type": "execute_result"
    }
   ],
   "source": [
    "y.head()"
   ]
  },
  {
   "cell_type": "code",
   "execution_count": 70,
   "id": "3f776191-6601-480f-95b5-85b217ef1a26",
   "metadata": {},
   "outputs": [],
   "source": [
    "#sinama seti\n",
    "from sklearn.model_selection import train_test_split"
   ]
  },
  {
   "cell_type": "code",
   "execution_count": 72,
   "id": "4b21dfb9-09a3-4514-bf81-b190c35ff917",
   "metadata": {},
   "outputs": [],
   "source": [
    "X_train , X_test, y_train,y_test = train_test_split(X,y,test_size = 0.20 , random_state=99) #%80 train %20 test"
   ]
  },
  {
   "cell_type": "code",
   "execution_count": 74,
   "id": "4dc8d5a5-bdc6-41ac-a98f-0114520e2186",
   "metadata": {},
   "outputs": [
    {
     "data": {
      "text/html": [
       "<div>\n",
       "<style scoped>\n",
       "    .dataframe tbody tr th:only-of-type {\n",
       "        vertical-align: middle;\n",
       "    }\n",
       "\n",
       "    .dataframe tbody tr th {\n",
       "        vertical-align: top;\n",
       "    }\n",
       "\n",
       "    .dataframe thead th {\n",
       "        text-align: right;\n",
       "    }\n",
       "</style>\n",
       "<table border=\"1\" class=\"dataframe\">\n",
       "  <thead>\n",
       "    <tr style=\"text-align: right;\">\n",
       "      <th></th>\n",
       "      <th>TV</th>\n",
       "      <th>radio</th>\n",
       "      <th>newspaper</th>\n",
       "    </tr>\n",
       "  </thead>\n",
       "  <tbody>\n",
       "    <tr>\n",
       "      <th>16</th>\n",
       "      <td>67.8</td>\n",
       "      <td>36.6</td>\n",
       "      <td>114.0</td>\n",
       "    </tr>\n",
       "    <tr>\n",
       "      <th>51</th>\n",
       "      <td>100.4</td>\n",
       "      <td>9.6</td>\n",
       "      <td>3.6</td>\n",
       "    </tr>\n",
       "    <tr>\n",
       "      <th>97</th>\n",
       "      <td>184.9</td>\n",
       "      <td>21.0</td>\n",
       "      <td>22.0</td>\n",
       "    </tr>\n",
       "    <tr>\n",
       "      <th>164</th>\n",
       "      <td>117.2</td>\n",
       "      <td>14.7</td>\n",
       "      <td>5.4</td>\n",
       "    </tr>\n",
       "    <tr>\n",
       "      <th>71</th>\n",
       "      <td>109.8</td>\n",
       "      <td>14.3</td>\n",
       "      <td>31.7</td>\n",
       "    </tr>\n",
       "  </tbody>\n",
       "</table>\n",
       "</div>"
      ],
      "text/plain": [
       "        TV  radio  newspaper\n",
       "16    67.8   36.6      114.0\n",
       "51   100.4    9.6        3.6\n",
       "97   184.9   21.0       22.0\n",
       "164  117.2   14.7        5.4\n",
       "71   109.8   14.3       31.7"
      ]
     },
     "execution_count": 74,
     "metadata": {},
     "output_type": "execute_result"
    }
   ],
   "source": [
    "X_train.head()"
   ]
  },
  {
   "cell_type": "code",
   "execution_count": 76,
   "id": "7d681700-c1a2-4abe-be92-16128adc2036",
   "metadata": {},
   "outputs": [
    {
     "data": {
      "text/html": [
       "<div>\n",
       "<style scoped>\n",
       "    .dataframe tbody tr th:only-of-type {\n",
       "        vertical-align: middle;\n",
       "    }\n",
       "\n",
       "    .dataframe tbody tr th {\n",
       "        vertical-align: top;\n",
       "    }\n",
       "\n",
       "    .dataframe thead th {\n",
       "        text-align: right;\n",
       "    }\n",
       "</style>\n",
       "<table border=\"1\" class=\"dataframe\">\n",
       "  <thead>\n",
       "    <tr style=\"text-align: right;\">\n",
       "      <th></th>\n",
       "      <th>TV</th>\n",
       "      <th>radio</th>\n",
       "      <th>newspaper</th>\n",
       "    </tr>\n",
       "  </thead>\n",
       "  <tbody>\n",
       "    <tr>\n",
       "      <th>135</th>\n",
       "      <td>48.3</td>\n",
       "      <td>47.0</td>\n",
       "      <td>8.5</td>\n",
       "    </tr>\n",
       "    <tr>\n",
       "      <th>127</th>\n",
       "      <td>80.2</td>\n",
       "      <td>0.0</td>\n",
       "      <td>9.2</td>\n",
       "    </tr>\n",
       "    <tr>\n",
       "      <th>191</th>\n",
       "      <td>75.5</td>\n",
       "      <td>10.8</td>\n",
       "      <td>6.0</td>\n",
       "    </tr>\n",
       "    <tr>\n",
       "      <th>66</th>\n",
       "      <td>31.5</td>\n",
       "      <td>24.6</td>\n",
       "      <td>2.2</td>\n",
       "    </tr>\n",
       "    <tr>\n",
       "      <th>119</th>\n",
       "      <td>19.4</td>\n",
       "      <td>16.0</td>\n",
       "      <td>22.3</td>\n",
       "    </tr>\n",
       "  </tbody>\n",
       "</table>\n",
       "</div>"
      ],
      "text/plain": [
       "       TV  radio  newspaper\n",
       "135  48.3   47.0        8.5\n",
       "127  80.2    0.0        9.2\n",
       "191  75.5   10.8        6.0\n",
       "66   31.5   24.6        2.2\n",
       "119  19.4   16.0       22.3"
      ]
     },
     "execution_count": 76,
     "metadata": {},
     "output_type": "execute_result"
    }
   ],
   "source": [
    "X_test.head()"
   ]
  },
  {
   "cell_type": "code",
   "execution_count": 78,
   "id": "aa63ac7b-afdb-4000-ba45-813c309ccded",
   "metadata": {},
   "outputs": [
    {
     "data": {
      "text/plain": [
       "16     12.5\n",
       "51     10.7\n",
       "97     15.5\n",
       "164    11.9\n",
       "71     12.4\n",
       "Name: sales, dtype: float64"
      ]
     },
     "execution_count": 78,
     "metadata": {},
     "output_type": "execute_result"
    }
   ],
   "source": [
    "y_train.head()"
   ]
  },
  {
   "cell_type": "code",
   "execution_count": 80,
   "id": "3ee831e2-2e71-4821-9fc0-a7e1b67a1bed",
   "metadata": {},
   "outputs": [
    {
     "data": {
      "text/plain": [
       "135    11.6\n",
       "127     8.8\n",
       "191     9.9\n",
       "66      9.5\n",
       "119     6.6\n",
       "Name: sales, dtype: float64"
      ]
     },
     "execution_count": 80,
     "metadata": {},
     "output_type": "execute_result"
    }
   ],
   "source": [
    "y_test.head()"
   ]
  },
  {
   "cell_type": "code",
   "execution_count": 82,
   "id": "bc0186a4-f4dd-4440-9225-ab20f90ade59",
   "metadata": {},
   "outputs": [],
   "source": [
    "lm = LinearRegression()\n",
    "model = lm.fit(X_train,y_train)"
   ]
  },
  {
   "cell_type": "code",
   "execution_count": 84,
   "id": "017f1738-e5cd-45fb-9212-88e2d5bdec7e",
   "metadata": {},
   "outputs": [
    {
     "data": {
      "text/plain": [
       "1.723682482265075"
      ]
     },
     "execution_count": 84,
     "metadata": {},
     "output_type": "execute_result"
    }
   ],
   "source": [
    "np.sqrt(mean_squared_error(y_train,model.predict(X_train))) #train hatasi"
   ]
  },
  {
   "cell_type": "code",
   "execution_count": 86,
   "id": "d18fa378-f069-4761-be96-8a98a7807c10",
   "metadata": {},
   "outputs": [
    {
     "data": {
      "text/plain": [
       "1.4312783138301641"
      ]
     },
     "execution_count": 86,
     "metadata": {},
     "output_type": "execute_result"
    }
   ],
   "source": [
    "np.sqrt(mean_squared_error(y_test,model.predict(X_test)))"
   ]
  },
  {
   "cell_type": "code",
   "execution_count": 88,
   "id": "dc3a6a4a-1e0d-48ff-98aa-8c95283509c3",
   "metadata": {},
   "outputs": [],
   "source": [
    "#k-katli cv"
   ]
  },
  {
   "cell_type": "code",
   "execution_count": 90,
   "id": "970b222c-9119-4dca-b7d5-6c5a463dd657",
   "metadata": {},
   "outputs": [],
   "source": [
    "from sklearn.model_selection import cross_val_score"
   ]
  },
  {
   "cell_type": "code",
   "execution_count": 92,
   "id": "84df09e0-7e37-432c-95d3-cc369dbecad1",
   "metadata": {},
   "outputs": [
    {
     "data": {
      "text/plain": [
       "array([-2.1019073 , -2.48953197, -3.09704214, -2.34694216, -3.68175761,\n",
       "       -1.8691401 , -3.18173007, -4.1927349 , -2.17128376, -8.03821974])"
      ]
     },
     "execution_count": 92,
     "metadata": {},
     "output_type": "execute_result"
    }
   ],
   "source": [
    "cross_val_score(model, X_train,y_train, cv=10,scoring = \"neg_mean_squared_error\")"
   ]
  },
  {
   "cell_type": "code",
   "execution_count": 94,
   "id": "77421504-d79c-4dda-8dd5-0b24a48d47fa",
   "metadata": {},
   "outputs": [
    {
     "data": {
      "text/plain": [
       "3.3170289742341277"
      ]
     },
     "execution_count": 94,
     "metadata": {},
     "output_type": "execute_result"
    }
   ],
   "source": [
    "#cv-mse\n",
    "np.mean(-cross_val_score(model, X_train,y_train, cv=10,scoring = \"neg_mean_squared_error\"))"
   ]
  },
  {
   "cell_type": "code",
   "execution_count": 100,
   "id": "980b514f-fe69-41d8-9cac-75eb6845bdb4",
   "metadata": {},
   "outputs": [
    {
     "data": {
      "text/plain": [
       "1.8212712522395251"
      ]
     },
     "execution_count": 100,
     "metadata": {},
     "output_type": "execute_result"
    }
   ],
   "source": [
    "# cv rmse\n",
    "np.sqrt(np.mean(-cross_val_score(model, X_train,y_train, cv=10,scoring = \"neg_mean_squared_error\")))"
   ]
  },
  {
   "cell_type": "code",
   "execution_count": 102,
   "id": "7981bfb0-1638-401c-8178-de6646a9eef7",
   "metadata": {},
   "outputs": [
    {
     "data": {
      "text/plain": [
       "1.7492763126843387"
      ]
     },
     "execution_count": 102,
     "metadata": {},
     "output_type": "execute_result"
    }
   ],
   "source": [
    "np.sqrt(np.mean(-cross_val_score(model, X,y, cv=10,scoring = \"neg_mean_squared_error\")))"
   ]
  },
  {
   "cell_type": "code",
   "execution_count": null,
   "id": "584f9eb8-a9a9-4665-a660-2d741d3b6f32",
   "metadata": {},
   "outputs": [],
   "source": []
  }
 ],
 "metadata": {
  "kernelspec": {
   "display_name": "Python [conda env:base] *",
   "language": "python",
   "name": "conda-base-py"
  },
  "language_info": {
   "codemirror_mode": {
    "name": "ipython",
    "version": 3
   },
   "file_extension": ".py",
   "mimetype": "text/x-python",
   "name": "python",
   "nbconvert_exporter": "python",
   "pygments_lexer": "ipython3",
   "version": "3.11.5"
  }
 },
 "nbformat": 4,
 "nbformat_minor": 5
}
