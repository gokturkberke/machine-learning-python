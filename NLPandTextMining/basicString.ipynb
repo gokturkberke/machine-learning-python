{
 "cells": [
  {
   "cell_type": "markdown",
   "id": "e90b1a38-f038-4574-bf78-4d97c58b28a1",
   "metadata": {},
   "source": [
    "# Temel String islemleri"
   ]
  },
  {
   "cell_type": "code",
   "execution_count": 2,
   "id": "93172d2d-ca74-45d6-b02d-34cf8b232932",
   "metadata": {},
   "outputs": [],
   "source": [
    "isim = \"mvk\""
   ]
  },
  {
   "cell_type": "code",
   "execution_count": 4,
   "id": "a8fab4cc-ff51-4831-9505-4fab2453cac4",
   "metadata": {},
   "outputs": [
    {
     "data": {
      "text/plain": [
       "'mvkmvkmvk'"
      ]
     },
     "execution_count": 4,
     "metadata": {},
     "output_type": "execute_result"
    }
   ],
   "source": [
    "isim * 3 "
   ]
  },
  {
   "cell_type": "code",
   "execution_count": 6,
   "id": "f03df7bb-bb88-4d9a-9725-f6ed41b7c0cc",
   "metadata": {},
   "outputs": [
    {
     "data": {
      "text/plain": [
       "'kvk'"
      ]
     },
     "execution_count": 6,
     "metadata": {},
     "output_type": "execute_result"
    }
   ],
   "source": [
    "\"k\" + isim[1:]"
   ]
  },
  {
   "cell_type": "code",
   "execution_count": 16,
   "id": "687242e4-f8b4-494c-b605-e853c1c9d108",
   "metadata": {},
   "outputs": [
    {
     "name": "stdout",
     "output_type": "stream",
     "text": [
      "Index: 0, Item: apple\n",
      "Index: 1, Item: pear\n",
      "Index: 2, Item: banana\n"
     ]
    }
   ],
   "source": [
    "#enumerate indeks islemlerinde kullanilir\n",
    "my_list = ['apple', 'pear', 'banana']\n",
    "for index, item in enumerate(my_list):\n",
    "    print(f\"Index: {index}, Item: {item}\")"
   ]
  },
  {
   "cell_type": "code",
   "execution_count": 18,
   "id": "3fcbd91f-081a-4936-8703-670093001b8d",
   "metadata": {},
   "outputs": [
    {
     "data": {
      "text/plain": [
       "['a', 'e', 'l', 'p', 'p']"
      ]
     },
     "execution_count": 18,
     "metadata": {},
     "output_type": "execute_result"
    }
   ],
   "source": [
    "sorted(\"apple\")"
   ]
  },
  {
   "cell_type": "code",
   "execution_count": 20,
   "id": "843665e1-14af-45f8-8b42-20a1f51d984a",
   "metadata": {},
   "outputs": [
    {
     "name": "stdout",
     "output_type": "stream",
     "text": [
      "aelpp\n"
     ]
    }
   ],
   "source": [
    "print(*sorted(\"apple\") , sep=\"\") #sep \"\" ile arasina hic bir sey koymamasini soyluyoruz"
   ]
  },
  {
   "cell_type": "code",
   "execution_count": 22,
   "id": "19ebf86e-3d73-4951-9e13-db8e8eed0157",
   "metadata": {},
   "outputs": [],
   "source": [
    "isim = \"gokturk berke korkut\""
   ]
  },
  {
   "cell_type": "code",
   "execution_count": 26,
   "id": "cdd0e94f-797c-47ae-80ce-3adccddca66d",
   "metadata": {},
   "outputs": [
    {
     "data": {
      "text/plain": [
       "'Gokturk Berke Korkut'"
      ]
     },
     "execution_count": 26,
     "metadata": {},
     "output_type": "execute_result"
    }
   ],
   "source": [
    "isim.title()"
   ]
  },
  {
   "cell_type": "code",
   "execution_count": 28,
   "id": "880d94bf-1ff9-4866-a026-9f9531741d17",
   "metadata": {},
   "outputs": [],
   "source": [
    "isim = \" hello \""
   ]
  },
  {
   "cell_type": "code",
   "execution_count": 30,
   "id": "42a9699c-fe6f-451c-9a25-178f5eaf7837",
   "metadata": {},
   "outputs": [
    {
     "data": {
      "text/plain": [
       "'hello'"
      ]
     },
     "execution_count": 30,
     "metadata": {},
     "output_type": "execute_result"
    }
   ],
   "source": [
    "isim.strip()"
   ]
  },
  {
   "cell_type": "code",
   "execution_count": 32,
   "id": "896a5a5b-90cd-4861-840d-1f85de667529",
   "metadata": {},
   "outputs": [],
   "source": [
    "isim = \"*hello*\""
   ]
  },
  {
   "cell_type": "code",
   "execution_count": 36,
   "id": "2e314b2a-36a4-4022-be88-dd7ce68292c5",
   "metadata": {},
   "outputs": [
    {
     "data": {
      "text/plain": [
       "'hello'"
      ]
     },
     "execution_count": 36,
     "metadata": {},
     "output_type": "execute_result"
    }
   ],
   "source": [
    "isim.strip(\"*\")"
   ]
  },
  {
   "cell_type": "code",
   "execution_count": 40,
   "id": "2ed1ee98-fec5-4616-b73a-66521ce085a6",
   "metadata": {},
   "outputs": [
    {
     "data": {
      "text/plain": [
       "'*hello'"
      ]
     },
     "execution_count": 40,
     "metadata": {},
     "output_type": "execute_result"
    }
   ],
   "source": [
    "isim.rstrip(\"*\") #lstrip"
   ]
  },
  {
   "cell_type": "markdown",
   "id": "ef861aa6-9581-4bdd-afe6-213000c2b058",
   "metadata": {},
   "source": [
    "# Text Mining"
   ]
  },
  {
   "cell_type": "markdown",
   "id": "3086896b-39c0-44fc-b44c-72ca4bbb15f7",
   "metadata": {},
   "source": [
    "## Text Preprocessing"
   ]
  },
  {
   "cell_type": "code",
   "execution_count": 44,
   "id": "932c9a00-4fff-4531-8ef1-24bb57fff77d",
   "metadata": {},
   "outputs": [],
   "source": [
    "text = \"\"\"\n",
    "A Scandal in Bohemia! 01\n",
    "The Red-headed League,2\n",
    "A Case , of Identity 33\n",
    "The Boscombe Valley Mystery 4\n",
    "The Five Orange Pips1\n",
    "The Man with? the Twisted Lip\n",
    "The Advanture of the Blue Carbuncle\n",
    "The Advanture of the Speckled Band\n",
    "The Advanture of the Engineer's Thumb\n",
    "The Advanture of the Noble Bachelor\n",
    "The Advanture of the Beryl Coronet\n",
    "The Advanture of the Copper Beeches \"\"\""
   ]
  },
  {
   "cell_type": "code",
   "execution_count": 48,
   "id": "20cfe2cf-c236-41e7-a252-d38ac3a10071",
   "metadata": {},
   "outputs": [
    {
     "data": {
      "text/plain": [
       "['',\n",
       " 'A Scandal in Bohemia! 01',\n",
       " 'The Red-headed League,2',\n",
       " 'A Case , of Identity 33',\n",
       " 'The Boscombe Valley Mystery 4',\n",
       " 'The Five Orange Pips1',\n",
       " 'The Man with? the Twisted Lip',\n",
       " 'The Advanture of the Blue Carbuncle',\n",
       " 'The Advanture of the Speckled Band',\n",
       " \"The Advanture of the Engineer's Thumb\",\n",
       " 'The Advanture of the Noble Bachelor',\n",
       " 'The Advanture of the Beryl Coronet',\n",
       " 'The Advanture of the Copper Beeches ']"
      ]
     },
     "execution_count": 48,
     "metadata": {},
     "output_type": "execute_result"
    }
   ],
   "source": [
    "text.split(\"\\n\")"
   ]
  },
  {
   "cell_type": "code",
   "execution_count": 50,
   "id": "e09422b4-e4bd-4d17-baba-d6f47b511d56",
   "metadata": {},
   "outputs": [],
   "source": [
    "v_text  = text.split(\"\\n\")"
   ]
  },
  {
   "cell_type": "code",
   "execution_count": 54,
   "id": "62f104dd-259f-49c5-a544-965312048ac8",
   "metadata": {},
   "outputs": [],
   "source": [
    "import pandas as pd"
   ]
  },
  {
   "cell_type": "code",
   "execution_count": 56,
   "id": "db1b029f-546e-456d-bdd9-281f1364690f",
   "metadata": {},
   "outputs": [],
   "source": [
    "v = pd.Series(v_text)"
   ]
  },
  {
   "cell_type": "code",
   "execution_count": 58,
   "id": "13e81300-aebc-4eb5-97c7-8f57b292cd50",
   "metadata": {},
   "outputs": [
    {
     "data": {
      "text/plain": [
       "0                                          \n",
       "1                  A Scandal in Bohemia! 01\n",
       "2                   The Red-headed League,2\n",
       "3                   A Case , of Identity 33\n",
       "4             The Boscombe Valley Mystery 4\n",
       "5                     The Five Orange Pips1\n",
       "6             The Man with? the Twisted Lip\n",
       "7       The Advanture of the Blue Carbuncle\n",
       "8        The Advanture of the Speckled Band\n",
       "9     The Advanture of the Engineer's Thumb\n",
       "10      The Advanture of the Noble Bachelor\n",
       "11       The Advanture of the Beryl Coronet\n",
       "12     The Advanture of the Copper Beeches \n",
       "dtype: object"
      ]
     },
     "execution_count": 58,
     "metadata": {},
     "output_type": "execute_result"
    }
   ],
   "source": [
    "v"
   ]
  },
  {
   "cell_type": "code",
   "execution_count": 60,
   "id": "e185532d-8067-49f9-bec8-4029cfd32861",
   "metadata": {},
   "outputs": [],
   "source": [
    "text_vektor = v[1:len(v)]"
   ]
  },
  {
   "cell_type": "code",
   "execution_count": 62,
   "id": "f8e2c2a0-6550-49a9-a8a9-d4b0fe8f5e8a",
   "metadata": {},
   "outputs": [
    {
     "data": {
      "text/plain": [
       "1                  A Scandal in Bohemia! 01\n",
       "2                   The Red-headed League,2\n",
       "3                   A Case , of Identity 33\n",
       "4             The Boscombe Valley Mystery 4\n",
       "5                     The Five Orange Pips1\n",
       "6             The Man with? the Twisted Lip\n",
       "7       The Advanture of the Blue Carbuncle\n",
       "8        The Advanture of the Speckled Band\n",
       "9     The Advanture of the Engineer's Thumb\n",
       "10      The Advanture of the Noble Bachelor\n",
       "11       The Advanture of the Beryl Coronet\n",
       "12     The Advanture of the Copper Beeches \n",
       "dtype: object"
      ]
     },
     "execution_count": 62,
     "metadata": {},
     "output_type": "execute_result"
    }
   ],
   "source": [
    "text_vektor"
   ]
  },
  {
   "cell_type": "code",
   "execution_count": 66,
   "id": "5390b0a0-0b29-424b-80cf-828d8cb1bfd0",
   "metadata": {},
   "outputs": [],
   "source": [
    "mdf = pd.DataFrame(text_vektor,columns = [\"stories\"])"
   ]
  },
  {
   "cell_type": "code",
   "execution_count": 68,
   "id": "c5e4d04f-725c-439c-88dc-201db05aa3bc",
   "metadata": {},
   "outputs": [
    {
     "data": {
      "text/html": [
       "<div>\n",
       "<style scoped>\n",
       "    .dataframe tbody tr th:only-of-type {\n",
       "        vertical-align: middle;\n",
       "    }\n",
       "\n",
       "    .dataframe tbody tr th {\n",
       "        vertical-align: top;\n",
       "    }\n",
       "\n",
       "    .dataframe thead th {\n",
       "        text-align: right;\n",
       "    }\n",
       "</style>\n",
       "<table border=\"1\" class=\"dataframe\">\n",
       "  <thead>\n",
       "    <tr style=\"text-align: right;\">\n",
       "      <th></th>\n",
       "      <th>stories</th>\n",
       "    </tr>\n",
       "  </thead>\n",
       "  <tbody>\n",
       "    <tr>\n",
       "      <th>1</th>\n",
       "      <td>A Scandal in Bohemia! 01</td>\n",
       "    </tr>\n",
       "    <tr>\n",
       "      <th>2</th>\n",
       "      <td>The Red-headed League,2</td>\n",
       "    </tr>\n",
       "    <tr>\n",
       "      <th>3</th>\n",
       "      <td>A Case , of Identity 33</td>\n",
       "    </tr>\n",
       "    <tr>\n",
       "      <th>4</th>\n",
       "      <td>The Boscombe Valley Mystery 4</td>\n",
       "    </tr>\n",
       "    <tr>\n",
       "      <th>5</th>\n",
       "      <td>The Five Orange Pips1</td>\n",
       "    </tr>\n",
       "    <tr>\n",
       "      <th>6</th>\n",
       "      <td>The Man with? the Twisted Lip</td>\n",
       "    </tr>\n",
       "    <tr>\n",
       "      <th>7</th>\n",
       "      <td>The Advanture of the Blue Carbuncle</td>\n",
       "    </tr>\n",
       "    <tr>\n",
       "      <th>8</th>\n",
       "      <td>The Advanture of the Speckled Band</td>\n",
       "    </tr>\n",
       "    <tr>\n",
       "      <th>9</th>\n",
       "      <td>The Advanture of the Engineer's Thumb</td>\n",
       "    </tr>\n",
       "    <tr>\n",
       "      <th>10</th>\n",
       "      <td>The Advanture of the Noble Bachelor</td>\n",
       "    </tr>\n",
       "    <tr>\n",
       "      <th>11</th>\n",
       "      <td>The Advanture of the Beryl Coronet</td>\n",
       "    </tr>\n",
       "    <tr>\n",
       "      <th>12</th>\n",
       "      <td>The Advanture of the Copper Beeches</td>\n",
       "    </tr>\n",
       "  </tbody>\n",
       "</table>\n",
       "</div>"
      ],
      "text/plain": [
       "                                  stories\n",
       "1                A Scandal in Bohemia! 01\n",
       "2                 The Red-headed League,2\n",
       "3                 A Case , of Identity 33\n",
       "4           The Boscombe Valley Mystery 4\n",
       "5                   The Five Orange Pips1\n",
       "6           The Man with? the Twisted Lip\n",
       "7     The Advanture of the Blue Carbuncle\n",
       "8      The Advanture of the Speckled Band\n",
       "9   The Advanture of the Engineer's Thumb\n",
       "10    The Advanture of the Noble Bachelor\n",
       "11     The Advanture of the Beryl Coronet\n",
       "12   The Advanture of the Copper Beeches "
      ]
     },
     "execution_count": 68,
     "metadata": {},
     "output_type": "execute_result"
    }
   ],
   "source": [
    "mdf"
   ]
  },
  {
   "cell_type": "code",
   "execution_count": null,
   "id": "44bccfe8-04d1-4ad1-a5b6-ce6699bcdbb7",
   "metadata": {},
   "outputs": [],
   "source": []
  }
 ],
 "metadata": {
  "kernelspec": {
   "display_name": "Python [conda env:base] *",
   "language": "python",
   "name": "conda-base-py"
  },
  "language_info": {
   "codemirror_mode": {
    "name": "ipython",
    "version": 3
   },
   "file_extension": ".py",
   "mimetype": "text/x-python",
   "name": "python",
   "nbconvert_exporter": "python",
   "pygments_lexer": "ipython3",
   "version": "3.11.5"
  }
 },
 "nbformat": 4,
 "nbformat_minor": 5
}
