{
 "cells": [
  {
   "cell_type": "code",
   "execution_count": 2,
   "id": "39c0deee-1220-480b-8d96-971f8848576d",
   "metadata": {},
   "outputs": [],
   "source": [
    "import numpy as np\n",
    "import pandas as pd \n",
    "import statsmodels.api as sm\n",
    "import seaborn as sns\n",
    "import matplotlib.pyplot as plt\n",
    "from sklearn.preprocessing import scale, StandardScaler\n",
    "from sklearn.model_selection import train_test_split, GridSearchCV, cross_val_score\n",
    "from sklearn.metrics import confusion_matrix, accuracy_score, mean_squared_error, r2_score, roc_auc_score, roc_curve, classification_report\n",
    "from sklearn.linear_model import LogisticRegression\n",
    "from sklearn.neighbors import KNeighborsClassifier\n",
    "from sklearn.svm import SVC\n",
    "from sklearn.neural_network import MLPClassifier\n",
    "from sklearn.tree import DecisionTreeClassifier\n",
    "from sklearn.ensemble import RandomForestClassifier\n",
    "from sklearn.ensemble import GradientBoostingClassifier"
   ]
  },
  {
   "cell_type": "code",
   "execution_count": 5,
   "id": "49bdde75-9ec3-47de-a237-46ab89568f24",
   "metadata": {},
   "outputs": [],
   "source": [
    "import warnings\n",
    "warnings.filterwarnings(\"ignore\",category = DeprecationWarning)\n",
    "warnings.filterwarnings(\"ignore\",category = FutureWarning)"
   ]
  },
  {
   "cell_type": "code",
   "execution_count": 8,
   "id": "23c4d89f-ad79-4e6a-8037-abd62d4938fb",
   "metadata": {},
   "outputs": [],
   "source": [
    "df = pd.read_csv(\"diabetes.csv\")"
   ]
  },
  {
   "cell_type": "code",
   "execution_count": 11,
   "id": "e1c64061-2a2f-4956-ae9d-832a0857b1e1",
   "metadata": {},
   "outputs": [],
   "source": [
    "y = df[\"Outcome\"]\n",
    "X = df.drop([\"Outcome\"],axis=1)"
   ]
  },
  {
   "cell_type": "code",
   "execution_count": 14,
   "id": "5d3ef5c7-5952-4ab6-bba5-1eccd46126b7",
   "metadata": {},
   "outputs": [],
   "source": [
    "X_train, X_test , y_train, y_test = train_test_split(X,\n",
    "                                                     y,\n",
    "                                                     test_size = 0.30,\n",
    "                                                     random_state = 42)"
   ]
  },
  {
   "cell_type": "code",
   "execution_count": 17,
   "id": "5dc501ab-3f18-4b70-a215-7411ace7f852",
   "metadata": {},
   "outputs": [],
   "source": [
    "knn_model = KNeighborsClassifier().fit(X_train,y_train)"
   ]
  },
  {
   "cell_type": "code",
   "execution_count": 19,
   "id": "e4882d3d-144f-4eb0-9970-7a0edb865bb8",
   "metadata": {},
   "outputs": [
    {
     "data": {
      "text/html": [
       "<style>#sk-container-id-1 {color: black;}#sk-container-id-1 pre{padding: 0;}#sk-container-id-1 div.sk-toggleable {background-color: white;}#sk-container-id-1 label.sk-toggleable__label {cursor: pointer;display: block;width: 100%;margin-bottom: 0;padding: 0.3em;box-sizing: border-box;text-align: center;}#sk-container-id-1 label.sk-toggleable__label-arrow:before {content: \"▸\";float: left;margin-right: 0.25em;color: #696969;}#sk-container-id-1 label.sk-toggleable__label-arrow:hover:before {color: black;}#sk-container-id-1 div.sk-estimator:hover label.sk-toggleable__label-arrow:before {color: black;}#sk-container-id-1 div.sk-toggleable__content {max-height: 0;max-width: 0;overflow: hidden;text-align: left;background-color: #f0f8ff;}#sk-container-id-1 div.sk-toggleable__content pre {margin: 0.2em;color: black;border-radius: 0.25em;background-color: #f0f8ff;}#sk-container-id-1 input.sk-toggleable__control:checked~div.sk-toggleable__content {max-height: 200px;max-width: 100%;overflow: auto;}#sk-container-id-1 input.sk-toggleable__control:checked~label.sk-toggleable__label-arrow:before {content: \"▾\";}#sk-container-id-1 div.sk-estimator input.sk-toggleable__control:checked~label.sk-toggleable__label {background-color: #d4ebff;}#sk-container-id-1 div.sk-label input.sk-toggleable__control:checked~label.sk-toggleable__label {background-color: #d4ebff;}#sk-container-id-1 input.sk-hidden--visually {border: 0;clip: rect(1px 1px 1px 1px);clip: rect(1px, 1px, 1px, 1px);height: 1px;margin: -1px;overflow: hidden;padding: 0;position: absolute;width: 1px;}#sk-container-id-1 div.sk-estimator {font-family: monospace;background-color: #f0f8ff;border: 1px dotted black;border-radius: 0.25em;box-sizing: border-box;margin-bottom: 0.5em;}#sk-container-id-1 div.sk-estimator:hover {background-color: #d4ebff;}#sk-container-id-1 div.sk-parallel-item::after {content: \"\";width: 100%;border-bottom: 1px solid gray;flex-grow: 1;}#sk-container-id-1 div.sk-label:hover label.sk-toggleable__label {background-color: #d4ebff;}#sk-container-id-1 div.sk-serial::before {content: \"\";position: absolute;border-left: 1px solid gray;box-sizing: border-box;top: 0;bottom: 0;left: 50%;z-index: 0;}#sk-container-id-1 div.sk-serial {display: flex;flex-direction: column;align-items: center;background-color: white;padding-right: 0.2em;padding-left: 0.2em;position: relative;}#sk-container-id-1 div.sk-item {position: relative;z-index: 1;}#sk-container-id-1 div.sk-parallel {display: flex;align-items: stretch;justify-content: center;background-color: white;position: relative;}#sk-container-id-1 div.sk-item::before, #sk-container-id-1 div.sk-parallel-item::before {content: \"\";position: absolute;border-left: 1px solid gray;box-sizing: border-box;top: 0;bottom: 0;left: 50%;z-index: -1;}#sk-container-id-1 div.sk-parallel-item {display: flex;flex-direction: column;z-index: 1;position: relative;background-color: white;}#sk-container-id-1 div.sk-parallel-item:first-child::after {align-self: flex-end;width: 50%;}#sk-container-id-1 div.sk-parallel-item:last-child::after {align-self: flex-start;width: 50%;}#sk-container-id-1 div.sk-parallel-item:only-child::after {width: 0;}#sk-container-id-1 div.sk-dashed-wrapped {border: 1px dashed gray;margin: 0 0.4em 0.5em 0.4em;box-sizing: border-box;padding-bottom: 0.4em;background-color: white;}#sk-container-id-1 div.sk-label label {font-family: monospace;font-weight: bold;display: inline-block;line-height: 1.2em;}#sk-container-id-1 div.sk-label-container {text-align: center;}#sk-container-id-1 div.sk-container {/* jupyter's `normalize.less` sets `[hidden] { display: none; }` but bootstrap.min.css set `[hidden] { display: none !important; }` so we also need the `!important` here to be able to override the default hidden behavior on the sphinx rendered scikit-learn.org. See: https://github.com/scikit-learn/scikit-learn/issues/21755 */display: inline-block !important;position: relative;}#sk-container-id-1 div.sk-text-repr-fallback {display: none;}</style><div id=\"sk-container-id-1\" class=\"sk-top-container\"><div class=\"sk-text-repr-fallback\"><pre>KNeighborsClassifier()</pre><b>In a Jupyter environment, please rerun this cell to show the HTML representation or trust the notebook. <br />On GitHub, the HTML representation is unable to render, please try loading this page with nbviewer.org.</b></div><div class=\"sk-container\" hidden><div class=\"sk-item\"><div class=\"sk-estimator sk-toggleable\"><input class=\"sk-toggleable__control sk-hidden--visually\" id=\"sk-estimator-id-1\" type=\"checkbox\" checked><label for=\"sk-estimator-id-1\" class=\"sk-toggleable__label sk-toggleable__label-arrow\">KNeighborsClassifier</label><div class=\"sk-toggleable__content\"><pre>KNeighborsClassifier()</pre></div></div></div></div></div>"
      ],
      "text/plain": [
       "KNeighborsClassifier()"
      ]
     },
     "execution_count": 19,
     "metadata": {},
     "output_type": "execute_result"
    }
   ],
   "source": [
    "knn_model"
   ]
  },
  {
   "cell_type": "code",
   "execution_count": 21,
   "id": "c706ac27-2a9c-4546-80d7-7877ef051a37",
   "metadata": {},
   "outputs": [],
   "source": [
    "y_pred = knn_model.predict(X_test)"
   ]
  },
  {
   "cell_type": "code",
   "execution_count": 23,
   "id": "68bc53a9-c4ac-4041-9c11-f23555d64df9",
   "metadata": {},
   "outputs": [
    {
     "data": {
      "text/plain": [
       "0.6883116883116883"
      ]
     },
     "execution_count": 23,
     "metadata": {},
     "output_type": "execute_result"
    }
   ],
   "source": [
    "accuracy_score(y_test,y_pred)"
   ]
  },
  {
   "cell_type": "code",
   "execution_count": 25,
   "id": "e0b8c693-2807-44f6-ae9c-6842162cd727",
   "metadata": {},
   "outputs": [
    {
     "name": "stdout",
     "output_type": "stream",
     "text": [
      "              precision    recall  f1-score   support\n",
      "\n",
      "           0       0.77      0.75      0.76       151\n",
      "           1       0.55      0.56      0.56        80\n",
      "\n",
      "    accuracy                           0.69       231\n",
      "   macro avg       0.66      0.66      0.66       231\n",
      "weighted avg       0.69      0.69      0.69       231\n",
      "\n"
     ]
    }
   ],
   "source": [
    "print(classification_report(y_test,y_pred))"
   ]
  },
  {
   "cell_type": "code",
   "execution_count": 27,
   "id": "82a39849-d72c-425c-be22-3e5b5cb48e44",
   "metadata": {},
   "outputs": [],
   "source": [
    "knn = KNeighborsClassifier()"
   ]
  },
  {
   "cell_type": "code",
   "execution_count": 29,
   "id": "2642e6c6-1d12-4e55-9af2-c524b2d68b70",
   "metadata": {},
   "outputs": [],
   "source": [
    "knn_params = {\"n_neighbors\" : np.arange(1,50)}"
   ]
  },
  {
   "cell_type": "code",
   "execution_count": 31,
   "id": "b6977501-4a45-494e-8a6e-40992032c1e4",
   "metadata": {},
   "outputs": [],
   "source": [
    "knn_cv_model = GridSearchCV(knn,knn_params,cv=10).fit(X_train,y_train)"
   ]
  },
  {
   "cell_type": "code",
   "execution_count": 33,
   "id": "1047d7fc-5a17-4a69-8ce6-59de2227ac9a",
   "metadata": {},
   "outputs": [
    {
     "data": {
      "text/plain": [
       "0.748637316561845"
      ]
     },
     "execution_count": 33,
     "metadata": {},
     "output_type": "execute_result"
    }
   ],
   "source": [
    "knn_cv_model.best_score_"
   ]
  },
  {
   "cell_type": "code",
   "execution_count": 35,
   "id": "c2191f04-e2ee-4b14-9a62-d6b34ee5b379",
   "metadata": {},
   "outputs": [
    {
     "data": {
      "text/plain": [
       "{'n_neighbors': 11}"
      ]
     },
     "execution_count": 35,
     "metadata": {},
     "output_type": "execute_result"
    }
   ],
   "source": [
    "knn_cv_model.best_params_"
   ]
  },
  {
   "cell_type": "code",
   "execution_count": 37,
   "id": "4ea55075-dc5e-4a1c-bfb3-c3a7b20fb272",
   "metadata": {},
   "outputs": [],
   "source": [
    "#final model"
   ]
  },
  {
   "cell_type": "code",
   "execution_count": 39,
   "id": "b28d8d3a-ebf3-44c7-a446-ad534643b9f8",
   "metadata": {},
   "outputs": [],
   "source": [
    "knn_tuned = KNeighborsClassifier(n_neighbors=11).fit(X_train,y_train)"
   ]
  },
  {
   "cell_type": "code",
   "execution_count": 41,
   "id": "e524cef4-e872-4411-a753-d6bb5b300ad5",
   "metadata": {},
   "outputs": [],
   "source": [
    "y_pred = knn_tuned.predict(X_test)"
   ]
  },
  {
   "cell_type": "code",
   "execution_count": 43,
   "id": "335b1457-70e4-488c-80d6-63ad20758f13",
   "metadata": {},
   "outputs": [
    {
     "data": {
      "text/plain": [
       "0.7316017316017316"
      ]
     },
     "execution_count": 43,
     "metadata": {},
     "output_type": "execute_result"
    }
   ],
   "source": [
    "accuracy_score(y_test,y_pred)"
   ]
  },
  {
   "cell_type": "markdown",
   "id": "18f0044b-e94b-42ab-934b-c0c1afd2c215",
   "metadata": {},
   "source": [
    "# Support Vector Machines"
   ]
  },
  {
   "cell_type": "markdown",
   "id": "eaaae55e-8cbc-426e-af37-6fac14dd310e",
   "metadata": {},
   "source": [
    "Amac iki sinif arasindaki ayrimin optimum olmasini saglayacak hiper duzlemi bulmak"
   ]
  },
  {
   "cell_type": "code",
   "execution_count": 47,
   "id": "729c0e02-a0be-43bc-a440-7a8c5edcb0c8",
   "metadata": {},
   "outputs": [
    {
     "data": {
      "text/html": [
       "<div>\n",
       "<style scoped>\n",
       "    .dataframe tbody tr th:only-of-type {\n",
       "        vertical-align: middle;\n",
       "    }\n",
       "\n",
       "    .dataframe tbody tr th {\n",
       "        vertical-align: top;\n",
       "    }\n",
       "\n",
       "    .dataframe thead th {\n",
       "        text-align: right;\n",
       "    }\n",
       "</style>\n",
       "<table border=\"1\" class=\"dataframe\">\n",
       "  <thead>\n",
       "    <tr style=\"text-align: right;\">\n",
       "      <th></th>\n",
       "      <th>Pregnancies</th>\n",
       "      <th>Glucose</th>\n",
       "      <th>BloodPressure</th>\n",
       "      <th>SkinThickness</th>\n",
       "      <th>Insulin</th>\n",
       "      <th>BMI</th>\n",
       "      <th>DiabetesPedigreeFunction</th>\n",
       "      <th>Age</th>\n",
       "      <th>Outcome</th>\n",
       "    </tr>\n",
       "  </thead>\n",
       "  <tbody>\n",
       "    <tr>\n",
       "      <th>0</th>\n",
       "      <td>6</td>\n",
       "      <td>148</td>\n",
       "      <td>72</td>\n",
       "      <td>35</td>\n",
       "      <td>0</td>\n",
       "      <td>33.6</td>\n",
       "      <td>0.627</td>\n",
       "      <td>50</td>\n",
       "      <td>1</td>\n",
       "    </tr>\n",
       "    <tr>\n",
       "      <th>1</th>\n",
       "      <td>1</td>\n",
       "      <td>85</td>\n",
       "      <td>66</td>\n",
       "      <td>29</td>\n",
       "      <td>0</td>\n",
       "      <td>26.6</td>\n",
       "      <td>0.351</td>\n",
       "      <td>31</td>\n",
       "      <td>0</td>\n",
       "    </tr>\n",
       "    <tr>\n",
       "      <th>2</th>\n",
       "      <td>8</td>\n",
       "      <td>183</td>\n",
       "      <td>64</td>\n",
       "      <td>0</td>\n",
       "      <td>0</td>\n",
       "      <td>23.3</td>\n",
       "      <td>0.672</td>\n",
       "      <td>32</td>\n",
       "      <td>1</td>\n",
       "    </tr>\n",
       "    <tr>\n",
       "      <th>3</th>\n",
       "      <td>1</td>\n",
       "      <td>89</td>\n",
       "      <td>66</td>\n",
       "      <td>23</td>\n",
       "      <td>94</td>\n",
       "      <td>28.1</td>\n",
       "      <td>0.167</td>\n",
       "      <td>21</td>\n",
       "      <td>0</td>\n",
       "    </tr>\n",
       "    <tr>\n",
       "      <th>4</th>\n",
       "      <td>0</td>\n",
       "      <td>137</td>\n",
       "      <td>40</td>\n",
       "      <td>35</td>\n",
       "      <td>168</td>\n",
       "      <td>43.1</td>\n",
       "      <td>2.288</td>\n",
       "      <td>33</td>\n",
       "      <td>1</td>\n",
       "    </tr>\n",
       "  </tbody>\n",
       "</table>\n",
       "</div>"
      ],
      "text/plain": [
       "   Pregnancies  Glucose  BloodPressure  SkinThickness  Insulin   BMI  \\\n",
       "0            6      148             72             35        0  33.6   \n",
       "1            1       85             66             29        0  26.6   \n",
       "2            8      183             64              0        0  23.3   \n",
       "3            1       89             66             23       94  28.1   \n",
       "4            0      137             40             35      168  43.1   \n",
       "\n",
       "   DiabetesPedigreeFunction  Age  Outcome  \n",
       "0                     0.627   50        1  \n",
       "1                     0.351   31        0  \n",
       "2                     0.672   32        1  \n",
       "3                     0.167   21        0  \n",
       "4                     2.288   33        1  "
      ]
     },
     "execution_count": 47,
     "metadata": {},
     "output_type": "execute_result"
    }
   ],
   "source": [
    "df.head()"
   ]
  },
  {
   "cell_type": "code",
   "execution_count": 49,
   "id": "a53c376b-dcfa-4fc9-a674-a3290e6be522",
   "metadata": {},
   "outputs": [],
   "source": [
    "X_train, X_test , y_train, y_test = train_test_split(X,\n",
    "                                                     y,\n",
    "                                                     test_size = 0.30,\n",
    "                                                     random_state = 42)"
   ]
  },
  {
   "cell_type": "code",
   "execution_count": 55,
   "id": "1314c8b5-c58f-46b7-b1c5-2b302b3682fa",
   "metadata": {},
   "outputs": [],
   "source": [
    "svm_model = SVC(kernel=\"linear\").fit(X_train,y_train)"
   ]
  },
  {
   "cell_type": "code",
   "execution_count": 56,
   "id": "af2e1d52-9ee6-4550-8284-71dcd009fbbf",
   "metadata": {},
   "outputs": [
    {
     "data": {
      "text/html": [
       "<style>#sk-container-id-3 {color: black;}#sk-container-id-3 pre{padding: 0;}#sk-container-id-3 div.sk-toggleable {background-color: white;}#sk-container-id-3 label.sk-toggleable__label {cursor: pointer;display: block;width: 100%;margin-bottom: 0;padding: 0.3em;box-sizing: border-box;text-align: center;}#sk-container-id-3 label.sk-toggleable__label-arrow:before {content: \"▸\";float: left;margin-right: 0.25em;color: #696969;}#sk-container-id-3 label.sk-toggleable__label-arrow:hover:before {color: black;}#sk-container-id-3 div.sk-estimator:hover label.sk-toggleable__label-arrow:before {color: black;}#sk-container-id-3 div.sk-toggleable__content {max-height: 0;max-width: 0;overflow: hidden;text-align: left;background-color: #f0f8ff;}#sk-container-id-3 div.sk-toggleable__content pre {margin: 0.2em;color: black;border-radius: 0.25em;background-color: #f0f8ff;}#sk-container-id-3 input.sk-toggleable__control:checked~div.sk-toggleable__content {max-height: 200px;max-width: 100%;overflow: auto;}#sk-container-id-3 input.sk-toggleable__control:checked~label.sk-toggleable__label-arrow:before {content: \"▾\";}#sk-container-id-3 div.sk-estimator input.sk-toggleable__control:checked~label.sk-toggleable__label {background-color: #d4ebff;}#sk-container-id-3 div.sk-label input.sk-toggleable__control:checked~label.sk-toggleable__label {background-color: #d4ebff;}#sk-container-id-3 input.sk-hidden--visually {border: 0;clip: rect(1px 1px 1px 1px);clip: rect(1px, 1px, 1px, 1px);height: 1px;margin: -1px;overflow: hidden;padding: 0;position: absolute;width: 1px;}#sk-container-id-3 div.sk-estimator {font-family: monospace;background-color: #f0f8ff;border: 1px dotted black;border-radius: 0.25em;box-sizing: border-box;margin-bottom: 0.5em;}#sk-container-id-3 div.sk-estimator:hover {background-color: #d4ebff;}#sk-container-id-3 div.sk-parallel-item::after {content: \"\";width: 100%;border-bottom: 1px solid gray;flex-grow: 1;}#sk-container-id-3 div.sk-label:hover label.sk-toggleable__label {background-color: #d4ebff;}#sk-container-id-3 div.sk-serial::before {content: \"\";position: absolute;border-left: 1px solid gray;box-sizing: border-box;top: 0;bottom: 0;left: 50%;z-index: 0;}#sk-container-id-3 div.sk-serial {display: flex;flex-direction: column;align-items: center;background-color: white;padding-right: 0.2em;padding-left: 0.2em;position: relative;}#sk-container-id-3 div.sk-item {position: relative;z-index: 1;}#sk-container-id-3 div.sk-parallel {display: flex;align-items: stretch;justify-content: center;background-color: white;position: relative;}#sk-container-id-3 div.sk-item::before, #sk-container-id-3 div.sk-parallel-item::before {content: \"\";position: absolute;border-left: 1px solid gray;box-sizing: border-box;top: 0;bottom: 0;left: 50%;z-index: -1;}#sk-container-id-3 div.sk-parallel-item {display: flex;flex-direction: column;z-index: 1;position: relative;background-color: white;}#sk-container-id-3 div.sk-parallel-item:first-child::after {align-self: flex-end;width: 50%;}#sk-container-id-3 div.sk-parallel-item:last-child::after {align-self: flex-start;width: 50%;}#sk-container-id-3 div.sk-parallel-item:only-child::after {width: 0;}#sk-container-id-3 div.sk-dashed-wrapped {border: 1px dashed gray;margin: 0 0.4em 0.5em 0.4em;box-sizing: border-box;padding-bottom: 0.4em;background-color: white;}#sk-container-id-3 div.sk-label label {font-family: monospace;font-weight: bold;display: inline-block;line-height: 1.2em;}#sk-container-id-3 div.sk-label-container {text-align: center;}#sk-container-id-3 div.sk-container {/* jupyter's `normalize.less` sets `[hidden] { display: none; }` but bootstrap.min.css set `[hidden] { display: none !important; }` so we also need the `!important` here to be able to override the default hidden behavior on the sphinx rendered scikit-learn.org. See: https://github.com/scikit-learn/scikit-learn/issues/21755 */display: inline-block !important;position: relative;}#sk-container-id-3 div.sk-text-repr-fallback {display: none;}</style><div id=\"sk-container-id-3\" class=\"sk-top-container\"><div class=\"sk-text-repr-fallback\"><pre>SVC(kernel=&#x27;linear&#x27;)</pre><b>In a Jupyter environment, please rerun this cell to show the HTML representation or trust the notebook. <br />On GitHub, the HTML representation is unable to render, please try loading this page with nbviewer.org.</b></div><div class=\"sk-container\" hidden><div class=\"sk-item\"><div class=\"sk-estimator sk-toggleable\"><input class=\"sk-toggleable__control sk-hidden--visually\" id=\"sk-estimator-id-3\" type=\"checkbox\" checked><label for=\"sk-estimator-id-3\" class=\"sk-toggleable__label sk-toggleable__label-arrow\">SVC</label><div class=\"sk-toggleable__content\"><pre>SVC(kernel=&#x27;linear&#x27;)</pre></div></div></div></div></div>"
      ],
      "text/plain": [
       "SVC(kernel='linear')"
      ]
     },
     "execution_count": 56,
     "metadata": {},
     "output_type": "execute_result"
    }
   ],
   "source": [
    "svm_model"
   ]
  },
  {
   "cell_type": "code",
   "execution_count": 65,
   "id": "8e1392a6-5e7b-4212-a0cb-10c6cc77780c",
   "metadata": {},
   "outputs": [],
   "source": [
    "y_pred = svm_model.predict(X_test)"
   ]
  },
  {
   "cell_type": "code",
   "execution_count": 61,
   "id": "71d607ad-0ce1-4900-a1d9-8596bda8083b",
   "metadata": {},
   "outputs": [
    {
     "data": {
      "text/plain": [
       "0.7445887445887446"
      ]
     },
     "execution_count": 61,
     "metadata": {},
     "output_type": "execute_result"
    }
   ],
   "source": [
    "accuracy_score(y_test,y_pred)"
   ]
  },
  {
   "cell_type": "code",
   "execution_count": 67,
   "id": "7af363bf-57c9-44a4-9f5e-9af4e50aaf17",
   "metadata": {},
   "outputs": [],
   "source": [
    "svm =SVC()"
   ]
  },
  {
   "cell_type": "code",
   "execution_count": 69,
   "id": "16ea78a0-0287-4b22-8513-4115c61a71fd",
   "metadata": {},
   "outputs": [],
   "source": [
    "svm_params = {\"C\":np.arange(1,10),\n",
    "             \"kernel\":[\"linear\",\"rbf\"]}"
   ]
  },
  {
   "cell_type": "code",
   "execution_count": 71,
   "id": "298a6f58-4f3f-456f-92af-c2bfd1412f14",
   "metadata": {
    "collapsed": true,
    "jupyter": {
     "outputs_hidden": true
    }
   },
   "outputs": [
    {
     "name": "stdout",
     "output_type": "stream",
     "text": [
      "Fitting 5 folds for each of 18 candidates, totalling 90 fits\n",
      "[CV] END ....................................C=1, kernel=rbf; total time=   0.0s\n",
      "[CV] END ....................................C=1, kernel=rbf; total time=   0.0s\n",
      "[CV] END ....................................C=1, kernel=rbf; total time=   0.0s\n",
      "[CV] END ....................................C=1, kernel=rbf; total time=   0.0s\n",
      "[CV] END ....................................C=1, kernel=rbf; total time=   0.0s\n",
      "[CV] END .................................C=1, kernel=linear; total time=   1.0s\n",
      "[CV] END ....................................C=2, kernel=rbf; total time=   0.0s\n",
      "[CV] END ....................................C=2, kernel=rbf; total time=   0.0s\n",
      "[CV] END ....................................C=2, kernel=rbf; total time=   0.0s\n",
      "[CV] END ....................................C=2, kernel=rbf; total time=   0.0s\n",
      "[CV] END ....................................C=2, kernel=rbf; total time=   0.0s\n",
      "[CV] END .................................C=1, kernel=linear; total time=   1.1s\n",
      "[CV] END .................................C=1, kernel=linear; total time=   1.3s\n",
      "[CV] END .................................C=1, kernel=linear; total time=   1.4s\n",
      "[CV] END .................................C=2, kernel=linear; total time=   1.4s\n",
      "[CV] END .................................C=2, kernel=linear; total time=   1.5s\n",
      "[CV] END ....................................C=3, kernel=rbf; total time=   0.0s\n",
      "[CV] END ....................................C=3, kernel=rbf; total time=   0.0s\n",
      "[CV] END ....................................C=3, kernel=rbf; total time=   0.0s\n",
      "[CV] END ....................................C=3, kernel=rbf; total time=   0.0s\n",
      "[CV] END ....................................C=3, kernel=rbf; total time=   0.0s\n",
      "[CV] END .................................C=1, kernel=linear; total time=   1.6s\n",
      "[CV] END .................................C=2, kernel=linear; total time=   1.9s\n",
      "[CV] END .................................C=3, kernel=linear; total time=   1.6s\n",
      "[CV] END .................................C=2, kernel=linear; total time=   3.3s\n",
      "[CV] END .................................C=2, kernel=linear; total time=   3.6s\n",
      "[CV] END ....................................C=4, kernel=rbf; total time=   0.0s\n",
      "[CV] END ....................................C=4, kernel=rbf; total time=   0.0s\n",
      "[CV] END ....................................C=4, kernel=rbf; total time=   0.0s\n",
      "[CV] END ....................................C=4, kernel=rbf; total time=   0.0s\n",
      "[CV] END ....................................C=4, kernel=rbf; total time=   0.0s\n",
      "[CV] END .................................C=3, kernel=linear; total time=   2.4s\n",
      "[CV] END .................................C=4, kernel=linear; total time=   2.5s\n",
      "[CV] END .................................C=4, kernel=linear; total time=   3.0s\n",
      "[CV] END .................................C=3, kernel=linear; total time=   4.1s\n",
      "[CV] END .................................C=4, kernel=linear; total time=   2.8s\n",
      "[CV] END ....................................C=5, kernel=rbf; total time=   0.0s\n",
      "[CV] END ....................................C=5, kernel=rbf; total time=   0.0s\n",
      "[CV] END ....................................C=5, kernel=rbf; total time=   0.0s\n",
      "[CV] END ....................................C=5, kernel=rbf; total time=   0.0s\n",
      "[CV] END ....................................C=5, kernel=rbf; total time=   0.0s\n",
      "[CV] END .................................C=3, kernel=linear; total time=   4.5s\n",
      "[CV] END .................................C=3, kernel=linear; total time=   5.7s\n",
      "[CV] END .................................C=4, kernel=linear; total time=   3.5s\n",
      "[CV] END .................................C=4, kernel=linear; total time=   5.9s\n",
      "[CV] END .................................C=5, kernel=linear; total time=   3.3s\n",
      "[CV] END ....................................C=6, kernel=rbf; total time=   0.0s\n",
      "[CV] END ....................................C=6, kernel=rbf; total time=   0.0s\n",
      "[CV] END ....................................C=6, kernel=rbf; total time=   0.0s\n",
      "[CV] END ....................................C=6, kernel=rbf; total time=   0.0s\n",
      "[CV] END ....................................C=6, kernel=rbf; total time=   0.0s\n",
      "[CV] END .................................C=5, kernel=linear; total time=   4.5s\n",
      "[CV] END .................................C=5, kernel=linear; total time=   4.6s\n",
      "[CV] END .................................C=5, kernel=linear; total time=   6.3s\n",
      "[CV] END .................................C=6, kernel=linear; total time=   5.8s\n",
      "[CV] END .................................C=5, kernel=linear; total time=   8.9s\n",
      "[CV] END ....................................C=7, kernel=rbf; total time=   0.0s\n",
      "[CV] END ....................................C=7, kernel=rbf; total time=   0.0s\n",
      "[CV] END ....................................C=7, kernel=rbf; total time=   0.0s\n",
      "[CV] END ....................................C=7, kernel=rbf; total time=   0.0s\n",
      "[CV] END ....................................C=7, kernel=rbf; total time=   0.0s\n",
      "[CV] END .................................C=6, kernel=linear; total time=   6.3s\n",
      "[CV] END .................................C=6, kernel=linear; total time=   8.2s\n",
      "[CV] END .................................C=6, kernel=linear; total time=   8.2s\n",
      "[CV] END .................................C=7, kernel=linear; total time=   6.2s\n",
      "[CV] END .................................C=6, kernel=linear; total time=   8.5s\n",
      "[CV] END ....................................C=8, kernel=rbf; total time=   0.0s\n",
      "[CV] END ....................................C=8, kernel=rbf; total time=   0.0s\n",
      "[CV] END ....................................C=8, kernel=rbf; total time=   0.0s\n",
      "[CV] END ....................................C=8, kernel=rbf; total time=   0.0s\n",
      "[CV] END ....................................C=8, kernel=rbf; total time=   0.0s\n",
      "[CV] END .................................C=7, kernel=linear; total time=  10.0s\n",
      "[CV] END .................................C=7, kernel=linear; total time=   7.2s\n",
      "[CV] END .................................C=8, kernel=linear; total time=   5.2s\n",
      "[CV] END .................................C=7, kernel=linear; total time=   6.8s\n",
      "[CV] END .................................C=8, kernel=linear; total time=   5.6s\n",
      "[CV] END ....................................C=9, kernel=rbf; total time=   0.0s\n",
      "[CV] END .................................C=7, kernel=linear; total time=  12.9s\n",
      "[CV] END ....................................C=9, kernel=rbf; total time=   0.0s\n",
      "[CV] END ....................................C=9, kernel=rbf; total time=   0.0s\n",
      "[CV] END ....................................C=9, kernel=rbf; total time=   0.0s\n",
      "[CV] END ....................................C=9, kernel=rbf; total time=   0.0s\n",
      "[CV] END .................................C=8, kernel=linear; total time=   7.6s\n",
      "[CV] END .................................C=8, kernel=linear; total time=   9.9s\n",
      "[CV] END .................................C=9, kernel=linear; total time=   6.8s\n",
      "[CV] END .................................C=9, kernel=linear; total time=   7.4s\n",
      "[CV] END .................................C=9, kernel=linear; total time=   7.3s\n",
      "[CV] END .................................C=9, kernel=linear; total time=   7.9s\n",
      "[CV] END .................................C=9, kernel=linear; total time=  13.2s\n",
      "[CV] END .................................C=8, kernel=linear; total time=  16.7s\n"
     ]
    }
   ],
   "source": [
    "svm_cv_model =GridSearchCV(svm,svm_params,cv=5,n_jobs=-1,verbose =2 ).fit(X_train,y_train)"
   ]
  },
  {
   "cell_type": "code",
   "execution_count": 73,
   "id": "87a6694d-8bd0-422d-af9f-425fb18da572",
   "metadata": {},
   "outputs": [
    {
     "data": {
      "text/plain": [
       "0.7839044652128765"
      ]
     },
     "execution_count": 73,
     "metadata": {},
     "output_type": "execute_result"
    }
   ],
   "source": [
    "svm_cv_model.best_score_"
   ]
  },
  {
   "cell_type": "code",
   "execution_count": 75,
   "id": "ff9b591a-6929-422c-929b-d1593bc3205b",
   "metadata": {},
   "outputs": [
    {
     "data": {
      "text/plain": [
       "{'C': 2, 'kernel': 'linear'}"
      ]
     },
     "execution_count": 75,
     "metadata": {},
     "output_type": "execute_result"
    }
   ],
   "source": [
    "svm_cv_model.best_params_"
   ]
  },
  {
   "cell_type": "code",
   "execution_count": 77,
   "id": "f01bc4e4-afdf-43dc-bc55-dfb9154f2bcc",
   "metadata": {},
   "outputs": [],
   "source": [
    "#final model"
   ]
  },
  {
   "cell_type": "code",
   "execution_count": 79,
   "id": "ec89a71e-c1fb-40b9-8ba7-cc8d57625541",
   "metadata": {},
   "outputs": [],
   "source": [
    "svm_tuned = SVC(C=2,kernel = \"linear\").fit(X_train,y_train)"
   ]
  },
  {
   "cell_type": "code",
   "execution_count": 81,
   "id": "124f48bb-da2f-41bc-a2c1-a3c90cc95613",
   "metadata": {},
   "outputs": [],
   "source": [
    "y_pred = svm_tuned.predict(X_test)"
   ]
  },
  {
   "cell_type": "code",
   "execution_count": 83,
   "id": "ac55ed97-c116-4074-8946-2ba6a2e829c6",
   "metadata": {},
   "outputs": [
    {
     "data": {
      "text/plain": [
       "0.7445887445887446"
      ]
     },
     "execution_count": 83,
     "metadata": {},
     "output_type": "execute_result"
    }
   ],
   "source": [
    "accuracy_score(y_test,y_pred)"
   ]
  },
  {
   "cell_type": "code",
   "execution_count": null,
   "id": "ac324131-6794-4ad7-a3b5-4fa28bb080e3",
   "metadata": {},
   "outputs": [],
   "source": []
  }
 ],
 "metadata": {
  "kernelspec": {
   "display_name": "Python [conda env:base] *",
   "language": "python",
   "name": "conda-base-py"
  },
  "language_info": {
   "codemirror_mode": {
    "name": "ipython",
    "version": 3
   },
   "file_extension": ".py",
   "mimetype": "text/x-python",
   "name": "python",
   "nbconvert_exporter": "python",
   "pygments_lexer": "ipython3",
   "version": "3.11.5"
  }
 },
 "nbformat": 4,
 "nbformat_minor": 5
}
